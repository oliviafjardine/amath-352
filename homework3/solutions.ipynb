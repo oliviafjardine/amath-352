{
 "cells": [
  {
   "cell_type": "markdown",
   "id": "27d3cdd6",
   "metadata": {},
   "source": [
    "# Homework 3"
   ]
  },
  {
   "cell_type": "markdown",
   "id": "0881c23b",
   "metadata": {},
   "source": [
    "### Part (a)"
   ]
  },
  {
   "cell_type": "code",
   "execution_count": 5,
   "id": "64393a35",
   "metadata": {},
   "outputs": [
    {
     "name": "stdout",
     "output_type": "stream",
     "text": [
      "Maximum entrywise absolute error: 3.78e-05\n"
     ]
    }
   ],
   "source": [
    "import numpy as np\n",
    "\n",
    "def wilkinson_matrix(m):\n",
    "    W1 = -np.ones((m, m))\n",
    "    W2 = np.eye(m)\n",
    "    W = np.tril(W1, -1) + W2\n",
    "    W[:, -1] = 1  # last column to ones\n",
    "    return W\n",
    "\n",
    "# Part (a)\n",
    "m = 50\n",
    "W = wilkinson_matrix(m)\n",
    "true_x = np.random.rand(m, 1)\n",
    "b = W @ true_x\n",
    "x = np.linalg.solve(W, b)\n",
    "max_error = np.max(np.abs(true_x - x))\n",
    "print(f\"Maximum entrywise absolute error: {max_error:.2e}\")\n"
   ]
  },
  {
   "cell_type": "markdown",
   "id": "4faccdf8",
   "metadata": {},
   "source": [
    "Answer:\n",
    "\n",
    "We compute the maximum entrywise absolute error using i |xi - true_x i|:\n",
    "for M = 50, is this is approximately 1.93e-02.\n",
    "\n",
    "This shows that even for moderate \n",
    "m\n",
    "m, the Wilkinson matrix begins to introduce small but noticeable numerical error.\n",
    "The error arises not from the method, but from the ill-conditioning of \n",
    "W\n",
    "W"
   ]
  },
  {
   "cell_type": "markdown",
   "id": "aa007a3e",
   "metadata": {},
   "source": [
    "### Part (b)"
   ]
  },
  {
   "cell_type": "code",
   "execution_count": 6,
   "id": "4828ccbe",
   "metadata": {},
   "outputs": [
    {
     "name": "stdout",
     "output_type": "stream",
     "text": [
      "Last column of U for m=10:\n",
      " [  1.   2.   4.   8.  16.  32.  64. 128. 256. 512.]\n",
      "\n",
      "Last column of U for m=20:\n",
      " [1.00000e+00 2.00000e+00 4.00000e+00 8.00000e+00 1.60000e+01 3.20000e+01\n",
      " 6.40000e+01 1.28000e+02 2.56000e+02 5.12000e+02 1.02400e+03 2.04800e+03\n",
      " 4.09600e+03 8.19200e+03 1.63840e+04 3.27680e+04 6.55360e+04 1.31072e+05\n",
      " 2.62144e+05 5.24288e+05]\n"
     ]
    }
   ],
   "source": [
    "from scipy.linalg import lu\n",
    "\n",
    "def wilkinson_matrix(m):\n",
    "    \"\"\"Returns m x m Wilkinson matrix.\"\"\"\n",
    "    W = np.tril(-np.ones((m, m)), -1) + np.eye(m)\n",
    "    W[:, -1] = 1\n",
    "    return W\n",
    "\n",
    "def last_column_of_U(m):\n",
    "    W = wilkinson_matrix(m)\n",
    "    P, L, U = lu(W)\n",
    "    return U[:, -1]\n",
    "\n",
    "# Compute last column of U for m = 10 and m = 20\n",
    "col_10 = last_column_of_U(10)\n",
    "col_20 = last_column_of_U(20)\n",
    "\n",
    "print(\"Last column of U for m=10:\\n\", col_10)\n",
    "print(\"\\nLast column of U for m=20:\\n\", col_20)\n"
   ]
  },
  {
   "cell_type": "markdown",
   "id": "7c460bef",
   "metadata": {},
   "source": [
    "### Part (c)"
   ]
  },
  {
   "cell_type": "code",
   "execution_count": 7,
   "id": "25bf6be7",
   "metadata": {},
   "outputs": [
    {
     "name": "stdout",
     "output_type": "stream",
     "text": [
      "Max entrywise absolute error: nan\n"
     ]
    }
   ],
   "source": [
    "def wilkinson_matrix(m):\n",
    "    W = np.tril(-np.ones((m, m)), -1) + np.eye(m)\n",
    "    W[:, -1] = 1\n",
    "    return W\n",
    "\n",
    "try:\n",
    "    m = 5000\n",
    "    W = wilkinson_matrix(m)\n",
    "    true_x = np.random.rand(m, 1)\n",
    "    b = W @ true_x\n",
    "    x = np.linalg.solve(W, b)\n",
    "    max_error = np.max(np.abs(true_x - x))\n",
    "    print(f\"Max entrywise absolute error: {max_error:.2e}\")\n",
    "except Exception as e:\n",
    "    print(f\"Error occurred: {e}\")\n"
   ]
  },
  {
   "cell_type": "markdown",
   "id": "f662e6ce",
   "metadata": {},
   "source": [
    "### Part (d)"
   ]
  },
  {
   "cell_type": "code",
   "execution_count": 8,
   "id": "2f6987cb",
   "metadata": {},
   "outputs": [
    {
     "name": "stdout",
     "output_type": "stream",
     "text": [
      "m = 10: cond(W) = 4.38e+00, cond(U) = 6.83e+02\n",
      "m = 50: cond(W) = 2.23e+01, cond(U) = 7.51e+14\n",
      "m = 100: cond(W) = 4.48e+01, cond(U) = 8.45e+29\n"
     ]
    }
   ],
   "source": [
    "import numpy as np\n",
    "from scipy.linalg import lu\n",
    "from numpy.linalg import cond\n",
    "\n",
    "def wilkinson_matrix(m):\n",
    "    W = np.tril(-np.ones((m, m)), -1) + np.eye(m)\n",
    "    W[:, -1] = 1\n",
    "    return W\n",
    "\n",
    "for m in [10, 50, 100]:\n",
    "    W = wilkinson_matrix(m)\n",
    "    _, _, U = lu(W)\n",
    "    cond_W = cond(W)\n",
    "    cond_U = cond(U)\n",
    "    print(f\"m = {m}: cond(W) = {cond_W:.2e}, cond(U) = {cond_U:.2e}\")\n"
   ]
  }
 ],
 "metadata": {
  "kernelspec": {
   "display_name": "Python 3",
   "language": "python",
   "name": "python3"
  },
  "language_info": {
   "codemirror_mode": {
    "name": "ipython",
    "version": 3
   },
   "file_extension": ".py",
   "mimetype": "text/x-python",
   "name": "python",
   "nbconvert_exporter": "python",
   "pygments_lexer": "ipython3",
   "version": "3.12.4"
  }
 },
 "nbformat": 4,
 "nbformat_minor": 5
}
